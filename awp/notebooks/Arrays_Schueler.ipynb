{
 "cells": [
  {
   "cell_type": "markdown",
   "metadata": {},
   "source": [
    "# Arrays"
   ]
  },
  {
   "cell_type": "markdown",
   "metadata": {},
   "source": [
    "Wenn Sie schon Erfahrung mit Programmiersprachen haben, werden Sie zwei Datenstrukturen kennen, die sehr viel gemeinsam haben und besonders nützlich sind: Listen und Maps bzw. Arrays und Hashmaps. Eine Liste ist eine geordnete Ansammlung von Elementen, während eine Map eine Sammlung von Schlüssel-Wert-Paaren darstellt. Sehen wir uns ein Beispiel an:\n",
    "\n",
    "\n",
    "Zur Hashtabelle ist auch folgender __[Wikipedia-Eintrag](https://de.wikipedia.org/wiki/Hashtabelle)__ interessant\n",
    "\n",
    "\n",
    "Folgendes Bild verdeutlicht den prinzipiellen Unterschied zwischen Arrays und Hashs\n",
    "\n",
    "<img src=\"images/array_hash.png\" align=\"center\">\n",
    "\n",
    "\n",
    "\n",
    "\n",
    "\n",
    "\n",
    "\n",
    "\n",
    "\n",
    "List: [\"Harry\", \"Ron\", \"Hermione\"]\n",
    "\n",
    "\n",
    "\n",
    "Map: { \"name\": \"James Potter\", \"status\": \"dead\" }\n",
    "\n",
    "\n",
    "\n",
    "In PHP haben wir Arrays, die beide vorher angesprochenen Datenstrukturen implementieren.\n",
    "\n",
    "Allgemein werden Arrays und Hashes folgende Eigenschaften zugeteilt; dies trifft nicht unbedingt für PHP zu, da beide Strukturen intern nach dem gleichen Muster implementiert sind.\n",
    "\n",
    "\n",
    "**Array**:\n",
    "\n",
    "- Kann Objekte beliebigen Typs enthalten\n",
    "- Suche kann in unsortierten Arrays mit steigenden Anzahl der Elemente lange dauern\n",
    "- Größe wird fest angelegt; nachträgliche Erweiterungen sind kostspielig\n",
    "\n",
    "**Hash(Assoziativer Array)**\n",
    "\n",
    "- Kann Objekte beliebigen Typs beinhalten\n",
    "- Im Allgemeinen gleiche Suchgeschwindigkeit für alle Elemente\n",
    "- Größe ist dynamisch veränderbar\n"
   ]
  },
  {
   "cell_type": "markdown",
   "metadata": {},
   "source": [
    "# Aufgabe\n",
    "\n",
    "- Bearbeiten Sie in Zweiergruppen die unten dargestellten Themen rund um das Thema Array in PHP. \n",
    "- Halten Sie ihre Ergebnisse in einem Dokument fest und speichern Sie es auf dem Laufwerk T.\n",
    "- Das Dokument sollte Quellcodebeispiele und Links zu interessanten URLs enthalten\n",
    "\n",
    "Stellen Sie es dann der Klassengemeinschaft im Rahmen eines max. 5 minütigen Vortrages vor."
   ]
  },
  {
   "cell_type": "markdown",
   "metadata": {},
   "source": [
    "## Arrays anlegen"
   ]
  },
  {
   "cell_type": "markdown",
   "metadata": {},
   "source": [
    "## Füllen von Arrays"
   ]
  },
  {
   "cell_type": "markdown",
   "metadata": {},
   "source": [
    "## Ausgabe eines Arrays im Rahmen einer Schleife"
   ]
  },
  {
   "cell_type": "markdown",
   "metadata": {},
   "source": [
    "## Zugriff auf Array-Elemente"
   ]
  },
  {
   "cell_type": "markdown",
   "metadata": {},
   "source": [
    "## Durchlaufen von Arrays per Schleife"
   ]
  },
  {
   "cell_type": "markdown",
   "metadata": {},
   "source": [
    "## empty and isset im Zusammenhang mit Arrays"
   ]
  },
  {
   "cell_type": "markdown",
   "metadata": {},
   "source": [
    "## Suchen in einem Array"
   ]
  },
  {
   "cell_type": "markdown",
   "metadata": {},
   "source": [
    "## Sortieren von Arrays"
   ]
  },
  {
   "cell_type": "markdown",
   "metadata": {},
   "source": [
    "# Übung\n",
    "\n",
    "Implementieren Sie die Aufgaben mit Hilfe eines oder mehrerer  php-Dateien. Speichern Sie ihre Lösungen anschließend auf dem T-Laufwerk/Dropbox)"
   ]
  },
  {
   "cell_type": "markdown",
   "metadata": {},
   "source": [
    "\n",
    "1.\t**Best Friends**\n",
    "\n",
    "    a. Erstellen Sie ein Array, das Ihre drei besten Klassenfreunde speichert und diese anschließend wieder ausgibt. \n",
    "    \n",
    "    b. Ein Freund ist in Ungnade gefallen, löschen Sie diesen aus dem Array. Geben Sie den Inhalt des Arrays anschließend wieder aus.\n",
    "    \n",
    "    c. Sie haben eine neue Freundin kennen gelernt, sie heißt Uschi. Speichern Sie auch diese in Ihrem Array. Geben \n",
    "       Sie den Inhalt das Array anschließend wieder aus.\n",
    "    \n",
    "    d. Stellen Sie fest, wie man über ein Formular ein Array an php übergeben kann.\n",
    "    \n",
    "\n",
    "2.\tSie wollen herausfinden, wie viele Kilometer Sie im Durchschnitt mit einer Tankfüllung fahren können. Hierzu haben   \n",
    "    Sie sich folgende Werte notiert: (1020, 923,780, 890). \n",
    "\n",
    "    a. Berechnen Sie die durchschnittliche Kilometerreichweite für Ihr Fahrzeug.\n",
    "    \n",
    "    b. Ermitteln Sie den durchschnittlichen Kraftstoffverbrauch je 100 km unter der Annahme, dass Sie einen 70 Liter Tank haben.\n",
    "\n",
    "\n",
    "3.\tErstellen Sie ein Array mit den Zahlen von 0 bis 9. Erstellen Sie anschließend ein zweites Array und weisen Sie diesen den Inhalt des ersten Arrays in umgekehrter Reihenfolge zu. Folgendes Beispiel soll dies simulieren. [0,1,2,3,4,5,6,7,8,9]→[9,8,7,6,5,4,3,2,1,0]\n",
    "\n",
    "\n",
    "\n",
    "4.\tErstellen Sie ein Programm, das die Ziehung der Lottozahlen simuliert. Füllen Sie zunächst ein Array mit sechs Zahlen, die zufällig über folgenden Befehl erzeugt werden: rand(5, 15);\t\n",
    "    \n",
    "    Der Spieler kann anschließend sechs Zahlen zwischen 1 und 49 eingeben, die in einem weiteren Array gespeichert werden. Das Programm zeigt anschließend beide Zahlenreihen untereinander an. Der Abgleich der richtig erratenen Zahlen wird zunächst dem Nutzer überlassen. \n",
    "   Erweiterung für Schnelle: Erstellen Sie eine Methode, die die Überprüfung der Zahlen selbstständig ausführt. \n",
    "   \n",
    "   \n",
    "   \n",
    "5. Informieren sie sich über die Dateistruktur eines JSON-Files. Inwieweit kann man ein JSON-File in einen PHP-Array umwandeln ?\n",
    "\n",
    "6.\tSie sollen ein Programm entwickeln, das Buchstaben in Morse-Code-Zeichen übersetzt. Diese können Sie folgender Liste entnehmen.\n",
    "\n",
    "<img src=\"images/morsecode.png\">\n",
    "\n",
    "   Erweiterung für Schnelle: Ermöglichen Sie nun auch die Ausgabe ganzer Wörter. \n"
   ]
  },
  {
   "cell_type": "code",
   "execution_count": null,
   "metadata": {},
   "outputs": [],
   "source": []
  }
 ],
 "metadata": {
  "hide_input": false,
  "kernelspec": {
   "display_name": "Python 3",
   "language": "python",
   "name": "python3"
  },
  "language_info": {
   "codemirror_mode": {
    "name": "ipython",
    "version": 3
   },
   "file_extension": ".py",
   "mimetype": "text/x-python",
   "name": "python",
   "nbconvert_exporter": "python",
   "pygments_lexer": "ipython3",
   "version": "3.7.0"
  },
  "toc": {
   "base_numbering": 1,
   "nav_menu": {},
   "number_sections": true,
   "sideBar": true,
   "skip_h1_title": false,
   "title_cell": "Table of Contents",
   "title_sidebar": "Contents",
   "toc_cell": false,
   "toc_position": {},
   "toc_section_display": true,
   "toc_window_display": false
  }
 },
 "nbformat": 4,
 "nbformat_minor": 2
}
