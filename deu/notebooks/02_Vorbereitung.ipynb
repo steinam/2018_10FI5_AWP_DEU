{
 "cells": [
  {
   "cell_type": "markdown",
   "metadata": {},
   "source": [
    "# Vorbereitung"
   ]
  },
  {
   "cell_type": "markdown",
   "metadata": {},
   "source": [
    "- Eigener Rechner: Fürs Arbeiten erlaubt und eigentich auch empfohlen; kein Mappen der Homelaufwerke wg. Netzmaske\n",
    "             \n",
    "- Github-Repository: https://github.com/steinam/2018_10FI5_AWP_DEU\n",
    "- Firefox/Chrome als Browser\n",
    "<img src=\"images/Google_Chrome_icon.png\" style=\"float:right\"> <img src=\"images/Visual_Studio_Code_icon.png\" style=\"float:right\"> <img src=\"images/phpstorm.jpeg\" style=\"float:right\"> \n",
    "\n",
    "- Editor: \n",
    "\n",
    "  - VSCode + Extensions https://code.visualstudio.com/\n",
    "  - PHPStorm\n",
    "\n",
    "- Extensions werden auf C:\\.... gespeichert\n",
    "- XAMPP(php 7.2) mit Document-Root auf dem H-Laufwerk\n",
    "\n"
   ]
  },
  {
   "cell_type": "markdown",
   "metadata": {},
   "source": [
    "## Chrome/Firefox"
   ]
  },
  {
   "cell_type": "code",
   "execution_count": null,
   "metadata": {},
   "outputs": [],
   "source": [
    "- Entwicklermodus"
   ]
  },
  {
   "cell_type": "markdown",
   "metadata": {},
   "source": [
    "# Links"
   ]
  },
  {
   "cell_type": "markdown",
   "metadata": {},
   "source": [
    "- Selfhtml (www.selfhtml.org)\n",
    "  - als Offline-Wiki verfügbar\n",
    "  - kann im Unterricht und vermutlich Tests eingesetzt werden\n",
    "- https://www.w3schools.com/\n",
    "- https://www.w3resource.com/\n"
   ]
  },
  {
   "cell_type": "code",
   "execution_count": null,
   "metadata": {},
   "outputs": [],
   "source": []
  }
 ],
 "metadata": {
  "hide_input": false,
  "kernelspec": {
   "display_name": "Python 3",
   "language": "python",
   "name": "python3"
  },
  "language_info": {
   "codemirror_mode": {
    "name": "ipython",
    "version": 3
   },
   "file_extension": ".py",
   "mimetype": "text/x-python",
   "name": "python",
   "nbconvert_exporter": "python",
   "pygments_lexer": "ipython3",
   "version": "3.7.0"
  },
  "toc": {
   "base_numbering": 1,
   "nav_menu": {},
   "number_sections": true,
   "sideBar": true,
   "skip_h1_title": false,
   "title_cell": "Table of Contents",
   "title_sidebar": "Contents",
   "toc_cell": false,
   "toc_position": {},
   "toc_section_display": true,
   "toc_window_display": false
  }
 },
 "nbformat": 4,
 "nbformat_minor": 2
}
