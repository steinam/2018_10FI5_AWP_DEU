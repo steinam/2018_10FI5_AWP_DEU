{
 "cells": [
  {
   "cell_type": "markdown",
   "metadata": {},
   "source": [
    "# HTML-Basics\n",
    "    "
   ]
  },
  {
   "cell_type": "markdown",
   "metadata": {},
   "source": [
    "## Elemente"
   ]
  },
  {
   "cell_type": "markdown",
   "metadata": {},
   "source": [
    "HTML_Elemente beschreiben die Strukturen eines Dokumentes. Sie können hinsichtlich des Inhalts, den sie enthalten dürfen, kategorisiert werden. \n",
    "\n",
    "Seit HTML5 existieren hierzu sieben grundsätzliche Kategorien: \n",
    "\n",
    "- Metadaten: Beeinflussen das gesamte Dokument, beispielsweise das Einbinden externer CSS-Dateien \n",
    "- Fluss-Elemente: Enthalten in der Regel Text oder Aussagen-Elemente\n",
    "- Überschriften: Beschreiben einen Abschnitt\n",
    "- Elemente zur Aufteilung: Teieln ein Dolkument in verschiedene logische Bereiche (article, aside, nav, section) \n",
    "- Stil-Elemente: differenzieren Formulierung und Darstellungsebene ihres Inhalts, s.B. sup, sub, em, b \n",
    "- Elemente zur Einbindung von Ressourcen und Interaktive Elemente, z.B.  audio, canvas, iframe, img, svg und video\n",
    "\n",
    "Hinzu kommen zusätzliche Kategorien.\n",
    "\n",
    "Siehe dazu auch: https://wiki.selfhtml.org/extensions/Selfhtml/example.php/Beispiel:HTML-Kategorien.html\n",
    "\n",
    "<img src=\"images/HTML_Kategorien_Elemente.png\" style=\"float:right\" width=50%>\n",
    "\n",
    "\n",
    "<video id = \"player\" src=\"images/vid_html_kategorien_beispiele.mp4\" width=\"420\" height=\"340\"  controls>\n",
    "  Ihr Browser kann dieses Video nicht wiedergeben.<br/>\n",
    "  Dieser Film zeigt eine Demonstration des video-Elements. \n",
    "  Sie können ihn unter <a href=\"images/vid_html_kategorien_beispiele.mp4\">Link-Addresse</a> abrufen.\n",
    "</video>\n",
    "\n",
    "<a href=\"images/vid_html_kategorien_beispiele.mp4\" float=left>Link-Addresse</a>\n",
    "\n",
    "\n",
    "Der Aufbau eines Elementes bestimmt sich nach folgendem Schema:\n",
    "\n",
    "<img src=\"images/Element_Grundkonzept.png\" align=\"left\">\n",
    "\n"
   ]
  },
  {
   "cell_type": "markdown",
   "metadata": {},
   "source": [
    "## Attribute"
   ]
  },
  {
   "cell_type": "markdown",
   "metadata": {},
   "source": [
    "<img src=images/attribute_office.png align=left>\n",
    "\n",
    "\n",
    "<img src=images/html_Attribute.png align=left>\n"
   ]
  },
  {
   "cell_type": "markdown",
   "metadata": {},
   "source": [
    "## HTML-Grundgerüst"
   ]
  },
  {
   "cell_type": "code",
   "execution_count": 5,
   "metadata": {
    "cell_style": "split",
    "format": "row",
    "hide_input": false
   },
   "outputs": [
    {
     "data": {
      "text/html": [
       "<!DOCTYPE html>\n",
       "<html lang='de'>\n",
       "  <head>\n",
       "    <meta charset='utf-8'>\n",
       "    <title>HTML </title>\n",
       "  </head>\n",
       "  <body>\n",
       "    \n",
       "  </body>\n",
       "</html>\n"
      ],
      "text/plain": [
       "<IPython.core.display.HTML object>"
      ]
     },
     "metadata": {
      "text/html": {
       "isolated": true
      }
     },
     "output_type": "display_data"
    }
   ],
   "source": [
    "%%html --isolated\n",
    "<!DOCTYPE html>\n",
    "<html lang='de'>\n",
    "  <head>\n",
    "    <meta charset='utf-8'>\n",
    "    <title>HTML </title>\n",
    "  </head>\n",
    "  <body>\n",
    "    \n",
    "  </body>\n",
    "</html>"
   ]
  },
  {
   "cell_type": "raw",
   "metadata": {
    "cell_style": "split"
   },
   "source": [
    "\n",
    "Dokumententyp HTML = HTML5\n",
    "Sprache soll Deutsch sein\n",
    "   Kopf mit MetaInfos\n",
    "     Zeichensatz ist utf-8\n",
    "     Titel lautet HTML\n",
    "   Kopfende\n",
    "   Beginn des Hauptteils\n",
    "\n",
    "   Ende Hauptteil\n",
    "Ende HTML"
   ]
  },
  {
   "cell_type": "markdown",
   "metadata": {
    "heading_collapsed": true
   },
   "source": [
    "## \"Hallo Welt\""
   ]
  },
  {
   "cell_type": "markdown",
   "metadata": {},
   "source": [
    "## Überschriften/Absätze/Zeilenumbrüche"
   ]
  },
  {
   "cell_type": "markdown",
   "metadata": {},
   "source": [
    "## Fett/Kursiv/Unterstrichen"
   ]
  },
  {
   "cell_type": "code",
   "execution_count": 2,
   "metadata": {
    "cell_style": "center",
    "format": "tab"
   },
   "outputs": [
    {
     "data": {
      "text/html": [
       "<html>\n",
       "\n",
       "hallo Welt\n",
       "</html>\n"
      ],
      "text/plain": [
       "<IPython.core.display.HTML object>"
      ]
     },
     "metadata": {
      "text/html": {
       "isolated": true
      }
     },
     "output_type": "display_data"
    }
   ],
   "source": [
    "%%html --isolated\n",
    "<html>\n",
    "\n",
    "hallo Welt\n",
    "</html>"
   ]
  },
  {
   "cell_type": "code",
   "execution_count": null,
   "metadata": {
    "format": "tab"
   },
   "outputs": [],
   "source": []
  },
  {
   "cell_type": "markdown",
   "metadata": {},
   "source": [
    "# Aufgaben\n",
    "\n"
   ]
  },
  {
   "cell_type": "code",
   "execution_count": null,
   "metadata": {},
   "outputs": [],
   "source": []
  }
 ],
 "metadata": {
  "hide_input": false,
  "kernelspec": {
   "display_name": "Python 3",
   "language": "python",
   "name": "python3"
  },
  "language_info": {
   "codemirror_mode": {
    "name": "ipython",
    "version": 3
   },
   "file_extension": ".py",
   "mimetype": "text/x-python",
   "name": "python",
   "nbconvert_exporter": "python",
   "pygments_lexer": "ipython3",
   "version": "3.7.0"
  },
  "toc": {
   "base_numbering": 1,
   "nav_menu": {},
   "number_sections": false,
   "sideBar": false,
   "skip_h1_title": true,
   "title_cell": "Table of Contents",
   "title_sidebar": "Contents",
   "toc_cell": false,
   "toc_position": {
    "height": "47.3167px",
    "left": "668px",
    "top": "134.7px",
    "width": "158.633px"
   },
   "toc_section_display": false,
   "toc_window_display": false
  }
 },
 "nbformat": 4,
 "nbformat_minor": 2
}
