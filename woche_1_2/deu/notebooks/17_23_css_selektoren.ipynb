{
 "cells": [
  {
   "cell_type": "markdown",
   "metadata": {},
   "source": [
    " <font size=6><b>CSS - Selektoren</b></font>"
   ]
  },
  {
   "cell_type": "markdown",
   "metadata": {},
   "source": [
    "\n",
    "\n",
    "siehe dazu auch: https://www.mediaevent.de/css/css-selektor-kontextselektor.html"
   ]
  },
  {
   "cell_type": "markdown",
   "metadata": {},
   "source": [
    "- HTML strukturiert Webseiten und zeigt eine sinngemäße Darstellung – nicht mehr und nicht weniger. \n",
    "- CSS – Cascading Stylesheets – »impft« HTML mit Regeln für Schrift, Farben und Layout und überschreibt die schlichte Darstellung von HTML.\n",
    "- CSS ist nicht nur für Webseiten zuständig, sondern wirkt auch in anderen Markup-Sprachen wie XML, SVG und RSS und beschreibt auch Druck- und Sprachausgabe.\n",
    "\n",
    "- Alle HTML-Elemente innerhalb des body-Tags und auch das body-Tag selber können als CSS-Selector dienen: body, nav, header, p, div, a\n",
    "\n",
    "- class- und id-Attribute des HTML-Tags transportieren CSS-Eigenschaften in ausgewählte Elemente des Dokuments. Das ist das gebräuchlichste Vorgehen, wenn CSS nur für spezielle Elemente bestimmt ist.\n"
   ]
  },
  {
   "cell_type": "markdown",
   "metadata": {},
   "source": [
    "# Typselektor"
   ]
  },
  {
   "cell_type": "markdown",
   "metadata": {},
   "source": [
    "- besteht aus dem Namen des Elements, das angesprochen werden soll\n",
    "- spricht alle Elemente eines Typs an\n",
    "- über Vererbung(inherit) können Eigenschaften des Elternelementes an das betrachtete Element weitergegeben werden"
   ]
  },
  {
   "cell_type": "code",
   "execution_count": 19,
   "metadata": {
    "code_folding": [
     0,
     1,
     3
    ]
   },
   "outputs": [
    {
     "data": {
      "text/html": [
       "<!doctype html>\n",
       "    <html>\n",
       "        <head>\n",
       "            <meta charset=\"utf-8\">\n",
       "            <title>CSS-Beispiel: Typselektor</title>\n",
       "            <style> p {border: 3px solid green;} </style>\n",
       "        </head>\n",
       "        <body>\n",
       "            <p>Dieses Beispiel demonstriert die Wirkung des Typselektors auf <abbr>HTML</abbr>-Dokumente.</p>\n",
       "            <p>jdjdjdj</p>\n",
       "        </body>\n",
       "    </html>\n"
      ],
      "text/plain": [
       "<IPython.core.display.HTML object>"
      ]
     },
     "metadata": {
      "text/html": {
       "isolated": true
      }
     },
     "output_type": "display_data"
    }
   ],
   "source": [
    "%%html --isolated\n",
    "<!doctype html>\n",
    "    <html>\n",
    "        <head>\n",
    "            <meta charset=\"utf-8\">\n",
    "            <title>CSS-Beispiel: Typselektor</title>\n",
    "            <style> p {border: 3px solid green;} </style>\n",
    "        </head>\n",
    "        <body>\n",
    "            <p>Dieses Beispiel demonstriert die Wirkung des Typselektors auf <abbr>HTML</abbr>-Dokumente.</p>\n",
    "            <p>jdjdjdj</p>\n",
    "        </body>\n",
    "    </html>"
   ]
  },
  {
   "cell_type": "markdown",
   "metadata": {},
   "source": [
    "**Aufgabe**\n",
    "\n",
    "Gegeben ist folgende HTML-Datei"
   ]
  },
  {
   "cell_type": "code",
   "execution_count": 20,
   "metadata": {},
   "outputs": [
    {
     "data": {
      "text/html": [
       "<!DOCTYPE html>\n",
       "<html lang=\"de\">\n",
       "\n",
       "  <head>\n",
       "    <meta charset=\"utf-8\">\n",
       "    <title>Typselektoren</title>\n",
       "    <link rel=\"stylesheet\" type=\"text/css\" href=\"typselektoren.css\">\n",
       "  </head>\n",
       "\n",
       "  <body>\n",
       "    <h1>Leggings kickstarter</h1>\n",
       "    <p>\n",
       "      Coloring book vaporware heirloom cloud bread man braid, ramps organic umami distillery.\n",
       "      <span>\n",
       "        Kale chips retro literally locavore migas raw denim.\n",
       "        <b>Live-edge austin taiyaki four dollar toast, cray shoreditch.</b>\n",
       "        DIY meh wayfarers retro banh mi selfies food truck.\n",
       "      </span>\n",
       "      Craft beer chicharrones gluten-free, intelligentsia humblebrag.\n",
       "    </p>\n",
       "  </body>\n",
       "\n",
       "</html>\n"
      ],
      "text/plain": [
       "<IPython.core.display.HTML object>"
      ]
     },
     "metadata": {},
     "output_type": "display_data"
    }
   ],
   "source": [
    "%%html\n",
    "<!DOCTYPE html>\n",
    "<html lang=\"de\">\n",
    "\n",
    "  <head>\n",
    "    <meta charset=\"utf-8\">\n",
    "    <title>Typselektoren</title>\n",
    "    <link rel=\"stylesheet\" type=\"text/css\" href=\"typselektoren.css\">\n",
    "  </head>\n",
    "\n",
    "  <body>\n",
    "    <h1>Leggings kickstarter</h1>\n",
    "    <p>\n",
    "      Coloring book vaporware heirloom cloud bread man braid, ramps organic umami distillery.\n",
    "      <span>\n",
    "        Kale chips retro literally locavore migas raw denim.\n",
    "        <b>Live-edge austin taiyaki four dollar toast, cray shoreditch.</b>\n",
    "        DIY meh wayfarers retro banh mi selfies food truck.\n",
    "      </span>\n",
    "      Craft beer chicharrones gluten-free, intelligentsia humblebrag.\n",
    "    </p>\n",
    "  </body>\n",
    "\n",
    "</html>"
   ]
  },
  {
   "cell_type": "markdown",
   "metadata": {},
   "source": [
    "Sie soll folgendes Aussehen erhalten\n",
    "\n",
    "<img src=\"images/typselektor.png\" align=center>\n"
   ]
  },
  {
   "cell_type": "markdown",
   "metadata": {},
   "source": [
    "**Lösung**"
   ]
  },
  {
   "cell_type": "code",
   "execution_count": 21,
   "metadata": {
    "code_folding": [
     0
    ],
    "collapsed": true
   },
   "outputs": [
    {
     "data": {
      "text/html": [
       "body {\n",
       "  color: red;\n",
       "  border: 2px solid red;\n",
       "}\n",
       "\n",
       "h1 {\n",
       "  color: blue;\n",
       "  border: inherit;\n",
       "}\n",
       "\n",
       "span {\n",
       "  color: grey;\n",
       "}\n",
       "\n",
       "b {\n",
       "  color: yellow;\n",
       "  border: inherit;\n",
       "}\n"
      ],
      "text/plain": [
       "<IPython.core.display.HTML object>"
      ]
     },
     "metadata": {},
     "output_type": "display_data"
    }
   ],
   "source": [
    "%%html\n",
    "body {\n",
    "  color: red;\n",
    "  border: 2px solid red;\n",
    "}\n",
    "\n",
    "h1 {\n",
    "  color: blue;\n",
    "  border: inherit;\n",
    "}\n",
    "\n",
    "span {\n",
    "  color: grey;\n",
    "}\n",
    "\n",
    "b {\n",
    "  color: yellow;\n",
    "  border: inherit;\n",
    "}"
   ]
  },
  {
   "cell_type": "markdown",
   "metadata": {},
   "source": [
    "## Aufgabe\n"
   ]
  },
  {
   "cell_type": "markdown",
   "metadata": {},
   "source": [
    "Erstelle ein HTML Dokument, welches folgende Anforderungen erfüllt:\n",
    "\n",
    "- Es besitzt einen HTML und einen CSS Kommentar mit beliebigem Inhalt\n",
    "\n",
    "- Es verwendet Inline CSS welches einer Überschrift diese Farbe zuweist: #8dbdd8\n",
    "\n",
    "- Es verwendet Internes CSS (style Tag im head), welches alle Texte von Paragraphen weiß macht.\n",
    "\n",
    "- Es besitzt ein Div welches einen schwarzen Hintergrund besitzt und 300px breit und hoch ist.\n",
    "\n",
    "- Dieses Div besitzt einen Absatz mit Loremipsum text.\n",
    "\n",
    "<img src=\"images/aufgabe_denis.png\" align=left>"
   ]
  },
  {
   "cell_type": "markdown",
   "metadata": {},
   "source": [
    "## Lösung"
   ]
  },
  {
   "cell_type": "markdown",
   "metadata": {},
   "source": [
    "<img src=\"images/Aufgabe_denis_loesung.png\" align=left>"
   ]
  },
  {
   "cell_type": "markdown",
   "metadata": {},
   "source": [
    "# Klassenselektor"
   ]
  },
  {
   "cell_type": "markdown",
   "metadata": {},
   "source": [
    "- spricht Elemente an, die einer bestimmten Klasse zugehörend sind\n",
    "- mehrere HTML-Elemente können die gleichen Klasse zugeordnet bekommen\n",
    "- Klassenselektoren können mit anderen Selektoren verbunden werden\n",
    "- Klassenselektor kann auch mit dem Typselektor verbunden sein\n",
    "- **Ein Klassenselektor wird gebildet, wenn vor dem Klassennamen ein Punkt notiert wird**"
   ]
  },
  {
   "cell_type": "code",
   "execution_count": 22,
   "metadata": {
    "format": "column",
    "scrolled": true
   },
   "outputs": [
    {
     "data": {
      "text/html": [
       "<!DOCTYPE html>\n",
       "<html lang=\"de\">\n",
       "\n",
       "  <head>\n",
       "    <meta charset=\"utf-8\">\n",
       "    <title>Klassenselektoren</title>\n",
       "    <link rel=\"stylesheet\" type=\"text/css\" href=\"klassenselektoren.css\">\n",
       "  </head>\n",
       "\n",
       "  <body>\n",
       "    <p>Dies ist ein wenig Text!</p>\n",
       "    <p>Dies ist ein wenig Text!</p>\n",
       "    <p>Dies ist ein wenig Text!</p>\n",
       "    <span>Dies ist ein wenig Text!</span><br><br>\n",
       "    <span>Dies ist ein wenig Text!</span><br><br>\n",
       "    <span>Dies ist ein wenig Text!</span>\n",
       "     <img src=\"images/klassenselektor.png\">\n",
       "</body>\n",
       "</html>\n"
      ],
      "text/plain": [
       "<IPython.core.display.HTML object>"
      ]
     },
     "metadata": {},
     "output_type": "display_data"
    }
   ],
   "source": [
    "%%html\n",
    "<!DOCTYPE html>\n",
    "<html lang=\"de\">\n",
    "\n",
    "  <head>\n",
    "    <meta charset=\"utf-8\">\n",
    "    <title>Klassenselektoren</title>\n",
    "    <link rel=\"stylesheet\" type=\"text/css\" href=\"klassenselektoren.css\">\n",
    "  </head>\n",
    "\n",
    "  <body>\n",
    "    <p>Dies ist ein wenig Text!</p>\n",
    "    <p>Dies ist ein wenig Text!</p>\n",
    "    <p>Dies ist ein wenig Text!</p>\n",
    "    <span>Dies ist ein wenig Text!</span><br><br>\n",
    "    <span>Dies ist ein wenig Text!</span><br><br>\n",
    "    <span>Dies ist ein wenig Text!</span>\n",
    "     <img src=\"images/klassenselektor.png\">\n",
    "</body>\n",
    "</html>"
   ]
  },
  {
   "cell_type": "markdown",
   "metadata": {},
   "source": [
    "**Lösung**"
   ]
  },
  {
   "cell_type": "code",
   "execution_count": 23,
   "metadata": {
    "code_folding": [
     0
    ]
   },
   "outputs": [
    {
     "data": {
      "text/html": [
       "<style>\n",
       ".gefahr {\n",
       "  color: red;\n",
       "}\n",
       "\n",
       ".wichtig {\n",
       "  font-weight: bold;\n",
       "}\n",
       "\n",
       "p.gefahr {\n",
       "  text-decoration: underline;\n",
       "}\n",
       "\n",
       "span.wichtig {\n",
       "  background-color: grey;\n",
       "}\n",
       "</style>\n"
      ],
      "text/plain": [
       "<IPython.core.display.HTML object>"
      ]
     },
     "metadata": {},
     "output_type": "display_data"
    }
   ],
   "source": [
    "%%html\n",
    "<style>\n",
    ".gefahr {\n",
    "  color: red;\n",
    "}\n",
    "\n",
    ".wichtig {\n",
    "  font-weight: bold;\n",
    "}\n",
    "\n",
    "p.gefahr {\n",
    "  text-decoration: underline;\n",
    "}\n",
    "\n",
    "span.wichtig {\n",
    "  background-color: grey;\n",
    "}\n",
    "</style>\n"
   ]
  },
  {
   "cell_type": "markdown",
   "metadata": {},
   "source": [
    "# ID-Selektor"
   ]
  },
  {
   "cell_type": "markdown",
   "metadata": {},
   "source": [
    "- Spricht ein Element an, dem eine ID zugeordnet wurde\n",
    "- Gebildet durch Voranstellen des Gatterzeichens vor den ID-Namen \n",
    "- ID-Selektoren können mit anderen Selektoren verbunden werden\n",
    "  - Mit Elementselektoren: elementname#id\n",
    "  - Mit Klassenselektoren: .klassenname#id bzw. #id.klassenname"
   ]
  },
  {
   "cell_type": "code",
   "execution_count": 24,
   "metadata": {
    "scrolled": true
   },
   "outputs": [
    {
     "data": {
      "text/html": [
       "<!doctype html>\n",
       "<html>\n",
       "    <head>\n",
       "        <meta charset=\"utf-8\">\n",
       "        <title>CSS-Beispiel: ID-Selektor</title>\n",
       "        <style>\n",
       "           \n",
       "            .......\n",
       "            \n",
       "        </style>\n",
       "    </head>\n",
       "    <body>\n",
       "        <div id=\"beispiel\">\n",
       "            <h1>ID-Selektoren</h1>\n",
       "            <p>Dieses Beispiel demonstriert die Wirkung des ID-Selektors.</p>\n",
       "            </div>\n",
       "    </body>\n",
       "</html>\n"
      ],
      "text/plain": [
       "<IPython.core.display.HTML object>"
      ]
     },
     "metadata": {
      "text/html": {
       "isolated": true
      }
     },
     "output_type": "display_data"
    }
   ],
   "source": [
    "%%html --isolated\n",
    "<!doctype html>\n",
    "<html>\n",
    "    <head>\n",
    "        <meta charset=\"utf-8\">\n",
    "        <title>CSS-Beispiel: ID-Selektor</title>\n",
    "        <style>\n",
    "           \n",
    "            .......\n",
    "            \n",
    "        </style>\n",
    "    </head>\n",
    "    <body>\n",
    "        <div id=\"beispiel\">\n",
    "            <h1>ID-Selektoren</h1>\n",
    "            <p>Dieses Beispiel demonstriert die Wirkung des ID-Selektors.</p>\n",
    "            </div>\n",
    "    </body>\n",
    "</html>\n"
   ]
  },
  {
   "attachments": {
    "image.png": {
     "image/png": "[encoded data removed]"
    }
   },
   "cell_type": "markdown",
   "metadata": {},
   "source": [
    "![image.png](attachment:image.png)"
   ]
  },
  {
   "cell_type": "markdown",
   "metadata": {},
   "source": [
    "## Aufgabe"
   ]
  },
  {
   "cell_type": "markdown",
   "metadata": {},
   "source": [
    "Erstelle eine HTML Datei, welche folgenden Bedingungen erfüllt:\n",
    "\n",
    "- Struktur einer HTML Datei\n",
    "\n",
    "- Verwendet einen Tag Selektor (z.B. p Tag) der die Farbe auf Dunkelgrau setzt\n",
    "\n",
    "- Verwendet einen ID Selektor \"viereck\" welcher ein div 300px breit und 300px hoch macht und ihm einen #b2d3e6 Hintergrund gibt.\n",
    "\n",
    "- Verwende einen Class Selektor \"monogross\" der mindestens von zwei Elementen genutzt wird und die Schriftart zu monospace ändert und die Schriftgröße auf 150% setzt.\n",
    "\n",
    "- Besitzt einen Link der den Nutzer auf Google weiterleitet und beim Hovern die Farbe Rot annimmt."
   ]
  },
  {
   "cell_type": "markdown",
   "metadata": {
    "heading_collapsed": true
   },
   "source": [
    "## Lösung"
   ]
  },
  {
   "cell_type": "markdown",
   "metadata": {
    "hidden": true
   },
   "source": [
    "<img src=\"images/loesung_klasse_id_denis_1.png\" align=left>\n",
    "\n",
    "<img src=\"images/loesung_klasse_id_denis_2.png\" align=left>\n"
   ]
  },
  {
   "cell_type": "markdown",
   "metadata": {},
   "source": [
    "# Kontexselektor\n",
    "\n",
    "Ein Nachfahren-Selektor oder Nachbar-Selektor wählt Elemente aus ihre Position innerhalb von anderen Elementen aus – aus dem **Kontext** der HTML-Struktur. Sie sind also abhängig von der Struktur, in der sie auftreten: von ihren Nachbarn, Vorfahren und Nachfahren.\n",
    "\n",
    "\n",
    "- Ein Nachfahren-Selektor oder **Descendant Selector** filtert Elemente unterhalb bestimmter Elemente.\n",
    "- Ein Nachbar-Selektor oder **Adjacent Selector** filtert Elemente, die aufeinander folgen und auf derselben Ebene liegen.\n",
    "\n",
    "\n"
   ]
  },
  {
   "cell_type": "markdown",
   "metadata": {},
   "source": [
    "## Kindselektor"
   ]
  },
  {
   "cell_type": "markdown",
   "metadata": {},
   "source": [
    "<img src=\"images/kindselektor.png\"  style=\"float:right\">\n",
    "\n",
    "- \">\" zwischen den beiden Slektoren\n",
    "\n",
    "- Trifft nur auf Elemente zu, die direkt innerhalb des div-Elementes liegen\n",
    "\n",
    "  div > p { color: black; background-color: red; }\n",
    "\n",
    "\n"
   ]
  },
  {
   "cell_type": "markdown",
   "metadata": {},
   "source": [
    "## Nachfahrenselektor\n",
    "\n"
   ]
  },
  {
   "cell_type": "markdown",
   "metadata": {},
   "source": [
    "<img src=\"images/nachfahre_descendant.png\" style=\"float:right\">\n",
    "\n",
    "- Leerzeichen \" \" zwischen den Selektoren\n",
    "\n",
    "- <span class=\"mark\">div p</span> { color: black; background-color: red; }\n",
    "\n",
    "  Alle p-Elemente, die innerhalb von div-Elementen liegen, werden durch die Regel angesprochen"
   ]
  },
  {
   "cell_type": "markdown",
   "metadata": {},
   "source": [
    "## Direkte Nachbar-Selektoren (Adjacent)"
   ]
  },
  {
   "cell_type": "markdown",
   "metadata": {},
   "source": [
    "<img src=\"images/nachbar_direkt.png\" style=\"float:right\">\n",
    "\n",
    "- Absteigender Selektor, angewendet auf ein p-Element, das dem h2-Element direkt folgt. \n",
    "- h2 und p haben dabei immer dieselben Eltern. \n",
    "\n",
    "  h2 + p { color: black; background-color: red; }\n"
   ]
  },
  {
   "cell_type": "markdown",
   "metadata": {},
   "source": [
    "## Indirekte Nachbar-Selektoren "
   ]
  },
  {
   "cell_type": "markdown",
   "metadata": {},
   "source": [
    "<img src=\"images/nachbar_indirekt.png\" style=\"float:right\">\n",
    "\n",
    "- Angewendet auf alle p-Elemente, die dem h2-Element folgen. \n",
    "- h2 und p haben dabei immer dieselben Eltern – liegen also in derselben Ebene.\n",
    "  \n",
    "  h2 ~ p { color: white; background-color: red; }\n"
   ]
  },
  {
   "cell_type": "markdown",
   "metadata": {},
   "source": [
    "## Kombination mit class"
   ]
  },
  {
   "cell_type": "markdown",
   "metadata": {},
   "source": [
    "- Kontext-Selektoren können z.B. durch Klassen- oder id-Selektoren noch weiter eingeschränkt werden.\n",
    "\n",
    "  div#nurHier p.content { color: black; background-color: green; width: 500px; }\n",
    "  \n",
    "  \n",
    "\n",
    "- Nur Inhalte von p-Elementen mit dem Attribut class=\"content\", die innerhalb des div-Elements mit dem id-Attribut id=\"nurHier\" liegen, werden den aufgeführten Regeln unterworfen. "
   ]
  },
  {
   "cell_type": "markdown",
   "metadata": {},
   "source": [
    "## Kontext-Selektoren und Performance"
   ]
  },
  {
   "cell_type": "markdown",
   "metadata": {},
   "source": [
    "- Diese Selektoren sind zwar sehr mächtig und zudem im Stylesheet gut lesbar, sie kosten aber auch Performance vom Browser.\n",
    "\n",
    "- Wir lesen einen Kontext-Selektor wie hier von links nach rechts\n",
    "\n",
    "   #content article .main p span { color: blue; }\n",
    "\n",
    "   …"
   ]
  },
  {
   "cell_type": "code",
   "execution_count": 25,
   "metadata": {},
   "outputs": [
    {
     "data": {
      "text/html": [
       "   <div id=\"content\">\n",
       "      <article>\n",
       "         <div class=\"main\">\n",
       "            <p>Wahrscheinlich waren es <span>Stunden</span> über \n",
       "               Stunden, die …</p>\n",
       "         </div>\n",
       "      </article>\n",
       "   </div>\n"
      ],
      "text/plain": [
       "<IPython.core.display.HTML object>"
      ]
     },
     "metadata": {
      "text/html": {
       "isolated": true
      }
     },
     "output_type": "display_data"
    }
   ],
   "source": [
    "%%html --isolated\n",
    "   <div id=\"content\">\n",
    "      <article>\n",
    "         <div class=\"main\">\n",
    "            <p>Wahrscheinlich waren es <span>Stunden</span> über \n",
    "               Stunden, die …</p>\n",
    "         </div>\n",
    "      </article>\n",
    "   </div>"
   ]
  },
  {
   "cell_type": "markdown",
   "metadata": {},
   "source": [
    "- Wenn in #content ein article-Tag steht und darunter ein Element mit der Klasse .main in dem ein p liegt und darin ein span – dann rendere den Inhalt Blau.\n",
    "\n",
    "- Der Browser löst die Eigenschaft aber von rechts nach links auf: Der Browser sucht erst alle span-Elemente, dann filtert er die span-Elemente, die in p-Tags liegen … usw.\n",
    "\n",
    "- So elegant Kontext-Selektoren auch sind – für schnelle Reaktionszeiten sollten sie sparsam und bewußt verwendet werden. "
   ]
  },
  {
   "cell_type": "code",
   "execution_count": null,
   "metadata": {},
   "outputs": [],
   "source": []
  }
 ],
 "metadata": {
  "hide_input": false,
  "kernelspec": {
   "display_name": "Python 3",
   "language": "python",
   "name": "python3"
  },
  "language_info": {
   "codemirror_mode": {
    "name": "ipython",
    "version": 3
   },
   "file_extension": ".py",
   "mimetype": "text/x-python",
   "name": "python",
   "nbconvert_exporter": "python",
   "pygments_lexer": "ipython3",
   "version": "3.7.0"
  },
  "toc": {
   "base_numbering": 1,
   "nav_menu": {
    "height": "86px",
    "width": "252px"
   },
   "number_sections": true,
   "sideBar": true,
   "skip_h1_title": false,
   "title_cell": "Table of Contents",
   "title_sidebar": "Contents",
   "toc_cell": false,
   "toc_position": {},
   "toc_section_display": "block",
   "toc_window_display": true
  }
 },
 "nbformat": 4,
 "nbformat_minor": 2
}
