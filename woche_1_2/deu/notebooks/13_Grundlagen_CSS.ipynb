{
 "cells": [
  {
   "cell_type": "markdown",
   "metadata": {},
   "source": [
    "# Grundlagen von CSS\n",
    "\n",
    "\n",
    "https://www.mediaevent.de/css/"
   ]
  },
  {
   "cell_type": "markdown",
   "metadata": {},
   "source": [
    "## Zusammenhang"
   ]
  },
  {
   "cell_type": "markdown",
   "metadata": {},
   "source": [
    "![Zusammenhang HTML/CSS/JS](HTML_CSS_JS.png)"
   ]
  },
  {
   "cell_type": "markdown",
   "metadata": {},
   "source": [
    "## Absicht\n",
    "\n"
   ]
  },
  {
   "cell_type": "markdown",
   "metadata": {},
   "source": [
    "- legt die Dargestellung der HTML-Elemente fest\n",
    "- vorwiegend für HTML, aber auch für XML und SVG\n",
    "- erlaubt das beliebige Formatieren einzelner HTML-Elemente\n",
    "- ermöglicht Wiederverwendbarkeit"
   ]
  },
  {
   "cell_type": "markdown",
   "metadata": {},
   "source": [
    "## Aufbau von CSS-Regeln"
   ]
  },
  {
   "cell_type": "markdown",
   "metadata": {},
   "source": [
    "Eine CSS-Regel besteht aus\n",
    "\n",
    "- der Bezeichnung für das Element, auf das die Regel zielt (**CSS-Selektor**),\n",
    "- aus Eigenschaften (Properties), die dem Element zugewiesen werden.\n",
    "- CSS-Eigenschaften stehen in geschweiften Klammern und sind durch Semikolons voneinander getrennt.\n",
    "- Klassen- und ID-Namen sind case-sensitiv\n",
    "\n",
    "\n",
    "<img src=\"images/css_regel.png\" style=\"float:left\">\n",
    "\n",
    "\n"
   ]
  },
  {
   "cell_type": "code",
   "execution_count": 2,
   "metadata": {
    "collapsed": true
   },
   "outputs": [
    {
     "data": {
      "text/html": [
       "\n",
       "selector { Eigenschaft: Wert; \n",
       "           Eigenschaft: Wert; \n",
       "           Eigenschaft: Wert }\n",
       "…\n",
       "h1 { \n",
       "   font-family: Helvetica;\n",
       "   font-size: 1.4em;\n",
       "   color: red\n",
       "}"
      ],
      "text/plain": [
       "<IPython.core.display.HTML object>"
      ]
     },
     "metadata": {},
     "output_type": "display_data"
    }
   ],
   "source": [
    "%%html\n",
    "\n",
    "selector { Eigenschaft: Wert; \n",
    "           Eigenschaft: Wert; \n",
    "           Eigenschaft: Wert }\n",
    "…\n",
    "h1 { \n",
    "   font-family: Helvetica;\n",
    "   font-size: 1.4em;\n",
    "   color: red\n",
    "}"
   ]
  },
  {
   "cell_type": "markdown",
   "metadata": {},
   "source": [
    "## Inline CSS\n",
    "\n",
    "Mit dem Universalattribut **style** können Sie Eigenschaften einem Element direkt zuweisen. Dabei sind nur Deklarationen, also Eigenschaft-Wert-Zuweisungen möglich."
   ]
  },
  {
   "cell_type": "code",
   "execution_count": 4,
   "metadata": {
    "code_folding": [
     2
    ]
   },
   "outputs": [
    {
     "data": {
      "text/html": [
       "\n",
       "<p style=\"text-align: center; color: green;\">\n",
       "    Dieser Absatz wird über ein style-Attribut formatiert.\n",
       "</p>\n"
      ],
      "text/plain": [
       "<IPython.core.display.HTML object>"
      ]
     },
     "metadata": {
      "text/html": {
       "isolated": true
      }
     },
     "output_type": "display_data"
    }
   ],
   "source": [
    "%%html --isolated\n",
    "\n",
    "<p style=\"text-align: center; color: green;\">\n",
    "    Dieser Absatz wird über ein style-Attribut formatiert.\n",
    "</p>"
   ]
  },
  {
   "cell_type": "markdown",
   "metadata": {},
   "source": [
    "- Direktes Festlegen von Formaten pro Element\n",
    "- Verlust vieler Vorteile\n",
    "- Hoher Wartungsaufwand \n",
    "- verringerte Flexibilität\n",
    "- keine zentrale Bearbeitung\n"
   ]
  },
  {
   "cell_type": "markdown",
   "metadata": {},
   "source": [
    "## Internal CSS\n",
    "\n",
    "Das HTML-Element **style** legt Formate zentral im Head des HTML-Dokuments fest.\n"
   ]
  },
  {
   "cell_type": "code",
   "execution_count": 1,
   "metadata": {
    "code_folding": []
   },
   "outputs": [
    {
     "data": {
      "text/html": [
       "\n",
       "\n",
       "<html lang=\"de\">\n",
       "<head>\n",
       "    <style>\n",
       "\n",
       "    h1 {\n",
       "    background-color: green;\n",
       "    color: blue;\n",
       "    }\n",
       "    p {\n",
       "        text-align: center;\n",
       "        color: red;\n",
       "    }\n",
       "\n",
       "    </style>\n",
       "</head>\n",
       "<body>\n",
       "\n",
       "<h1>Überschrift</h1>\n",
       "\n",
       "<p>Ein text halt</p>\n",
       "\n",
       "</body>\n",
       "</html>\n",
       "\n",
       "\n",
       "\n"
      ],
      "text/plain": [
       "<IPython.core.display.HTML object>"
      ]
     },
     "metadata": {
      "text/html": {
       "isolated": true
      }
     },
     "output_type": "display_data"
    }
   ],
   "source": [
    "%%html --isolated\n",
    "\n",
    "\n",
    "<html lang=\"de\">\n",
    "<head>\n",
    "    <style>\n",
    "\n",
    "    h1 {\n",
    "    background-color: green;\n",
    "    color: blue;\n",
    "    }\n",
    "    p {\n",
    "        text-align: center;\n",
    "        color: red;\n",
    "    }\n",
    "\n",
    "    </style>\n",
    "</head>\n",
    "<body>\n",
    "\n",
    "<h1>Überschrift</h1>\n",
    "\n",
    "<p>Ein text halt</p>\n",
    "\n",
    "</body>\n",
    "</html>\n",
    "\n",
    "\n",
    "\n"
   ]
  },
  {
   "cell_type": "markdown",
   "metadata": {},
   "source": [
    "## External CSS"
   ]
  },
  {
   "cell_type": "markdown",
   "metadata": {},
   "source": [
    "Das CSS wird einem eigenen externen Stylesheet mit der Endung .css abgespeichert und mit dem HTML-Element link direkt im Head eingebunden."
   ]
  },
  {
   "cell_type": "code",
   "execution_count": 5,
   "metadata": {
    "code_folding": []
   },
   "outputs": [
    {
     "data": {
      "text/html": [
       "\n",
       "<!--Einbinden eines externen Stylesheets -->\n",
       "\n",
       "<!doctype html>\n",
       "<html lang=\"de\">\n",
       "<head>\n",
       "    <link rel=\"stylesheet\" href=\"stylesheet.css\">\n",
       "    ..."
      ],
      "text/plain": [
       "<IPython.core.display.HTML object>"
      ]
     },
     "metadata": {},
     "output_type": "display_data"
    }
   ],
   "source": [
    "%%html --isolated\n",
    "\n",
    "<!--Einbinden eines externen Stylesheets -->\n",
    "\n",
    "<!doctype html>\n",
    "<html lang=\"de\">\n",
    "<head>\n",
    "    <link rel=\"stylesheet\" href=\"stylesheet.css\">\n",
    "    ..."
   ]
  },
  {
   "cell_type": "code",
   "execution_count": null,
   "metadata": {},
   "outputs": [],
   "source": []
  }
 ],
 "metadata": {
  "hide_input": false,
  "kernelspec": {
   "display_name": "Python 3",
   "language": "python",
   "name": "python3"
  },
  "language_info": {
   "codemirror_mode": {
    "name": "ipython",
    "version": 3
   },
   "file_extension": ".py",
   "mimetype": "text/x-python",
   "name": "python",
   "nbconvert_exporter": "python",
   "pygments_lexer": "ipython3",
   "version": "3.7.0"
  },
  "toc": {
   "base_numbering": 1,
   "nav_menu": {
    "height": "105px",
    "width": "252px"
   },
   "number_sections": true,
   "sideBar": true,
   "skip_h1_title": false,
   "title_cell": "Table of Contents",
   "title_sidebar": "Contents",
   "toc_cell": false,
   "toc_position": {},
   "toc_section_display": "block",
   "toc_window_display": false
  }
 },
 "nbformat": 4,
 "nbformat_minor": 2
}
