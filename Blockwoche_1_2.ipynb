{
 "cells": [
  {
   "cell_type": "markdown",
   "metadata": {},
   "source": [
    "# Zusammenfassung AWP/DEU in Woche 1/2"
   ]
  },
  {
   "cell_type": "markdown",
   "metadata": {},
   "source": [
    "## AWP"
   ]
  },
  {
   "cell_type": "markdown",
   "metadata": {},
   "source": [
    "- Zusammenspiel Browser/Webserver/PHP\n",
    "- Aufbau URL\n",
    "- Auswerten des Requests per GET/POST sowie deren Unterschied\n",
    "- Globale PHP-VAriablen (```$_POST, $_GET, $_SERVER```)\n",
    "- Einfache Formulare zur Übertragung von Daten an PHP\n",
    "- Konzept Variable\n",
    "- Konzept Datentyp\n",
    "- Konzept Operator\n",
    "\n",
    "- Konzept Interpreter/Compiler/ByteCode\n",
    "\n",
    "- PHP/HTML mischen ist böse, aber nicht immer vermeidbar :-)\n",
    "\n",
    "\n"
   ]
  },
  {
   "cell_type": "markdown",
   "metadata": {},
   "source": [
    "## DEU"
   ]
  },
  {
   "cell_type": "markdown",
   "metadata": {},
   "source": [
    "- Zusammenhang HTML / CSS\n",
    "- Aufbau eines HTML-Grundgerüstes (html/head/body)\n",
    "- HTML-Tag: Elemente/Attribute\n",
    "- Einfache HTML-Tags: h1.., b, p, span, ...\n",
    "- Einbinden von CSS in HTML (Inline/Internal/External)\n",
    "- Aufbau einer CSS-Datei/CSS-Regeln (key-value-Pairs, shorthand-Schreibweise)\n",
    "- Selektoren in CSS (Typ-, Klassen-, ID-Selektoren)\n",
    "- Kleine Beispiele zur Benutzung von Selektoren"
   ]
  },
  {
   "cell_type": "code",
   "execution_count": null,
   "metadata": {},
   "outputs": [],
   "source": []
  }
 ],
 "metadata": {
  "hide_input": false,
  "kernelspec": {
   "display_name": "Python 3",
   "language": "python",
   "name": "python3"
  },
  "language_info": {
   "codemirror_mode": {
    "name": "ipython",
    "version": 3
   },
   "file_extension": ".py",
   "mimetype": "text/x-python",
   "name": "python",
   "nbconvert_exporter": "python",
   "pygments_lexer": "ipython3",
   "version": "3.7.0"
  },
  "toc": {
   "base_numbering": 1,
   "nav_menu": {},
   "number_sections": true,
   "sideBar": true,
   "skip_h1_title": false,
   "title_cell": "Table of Contents",
   "title_sidebar": "Contents",
   "toc_cell": false,
   "toc_position": {},
   "toc_section_display": true,
   "toc_window_display": false
  }
 },
 "nbformat": 4,
 "nbformat_minor": 2
}
